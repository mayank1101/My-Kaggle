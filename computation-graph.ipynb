{
 "cells": [
  {
   "cell_type": "markdown",
   "metadata": {
    "papermill": {
     "duration": 0.017163,
     "end_time": "2020-11-25T10:12:00.114162",
     "exception": false,
     "start_time": "2020-11-25T10:12:00.096999",
     "status": "completed"
    },
    "tags": []
   },
   "source": [
    "# Assignment (Week 8): Computation Graph\n",
    "\n",
    "A computational graph is a directed graph where the nodes correspond to operations or variables. Variables can feed their value into operations, and operations can feed their output into other operations. This way, every node in the graph defines a function of the variables. The values that are fed into the nodes and come out of the nodes are called tensors, which is just a fancy word for a multi-dimensional array. Hence, it subsumes scalars, vectors and matrices as well as tensors of a higher rank."
   ]
  },
  {
   "cell_type": "markdown",
   "metadata": {
    "papermill": {
     "duration": 0.012615,
     "end_time": "2020-11-25T10:12:00.140010",
     "exception": false,
     "start_time": "2020-11-25T10:12:00.127395",
     "status": "completed"
    },
    "tags": []
   },
   "source": [
    "# Operations\n",
    "\n",
    "Every operation is characterized by three things:\n",
    "\n",
    "1. A compute function that computes the operation's output given values for the operation's inputs\n",
    "2. A list of input_nodes which can be variables or other operations\n",
    "3. A list of consumers that use the operation's output as their input"
   ]
  },
  {
   "cell_type": "code",
   "execution_count": 1,
   "metadata": {
    "_cell_guid": "79c7e3d0-c299-4dcb-8224-4455121ee9b0",
    "_uuid": "d629ff2d2480ee46fbb7e2d37f6b5fab8052498a",
    "execution": {
     "iopub.execute_input": "2020-11-25T10:12:00.173711Z",
     "iopub.status.busy": "2020-11-25T10:12:00.172870Z",
     "iopub.status.idle": "2020-11-25T10:12:00.175799Z",
     "shell.execute_reply": "2020-11-25T10:12:00.175295Z"
    },
    "papermill": {
     "duration": 0.02293,
     "end_time": "2020-11-25T10:12:00.175916",
     "exception": false,
     "start_time": "2020-11-25T10:12:00.152986",
     "status": "completed"
    },
    "tags": []
   },
   "outputs": [],
   "source": [
    "class Operation:\n",
    "    \"\"\"Represents a graph node that performs a computation.\n",
    "\n",
    "    An `Operation` is a node in a `Graph` that takes zero or\n",
    "    more objects as input, and produces zero or more objects\n",
    "    as output.\n",
    "    \"\"\"\n",
    "\n",
    "    def __init__(self, input_nodes=[]):\n",
    "        \"\"\"Construct Operation\n",
    "        \"\"\"\n",
    "        self.input_nodes = input_nodes\n",
    "\n",
    "        # Initialize list of consumers (i.e. nodes that receive this operation's output as input)\n",
    "        self.consumers = []\n",
    "\n",
    "        # Append this operation to the list of consumers of all input nodes\n",
    "        for input_node in input_nodes:\n",
    "            input_node.consumers.append(self)\n",
    "\n",
    "        # Append this operation to the list of operations in the currently active default graph\n",
    "        _default_graph.operations.append(self)\n",
    "\n",
    "    def compute(self):\n",
    "        \"\"\"Computes the output of this operation.\n",
    "        \"\" Must be implemented by the particular operation.\n",
    "        \"\"\"\n",
    "        pass"
   ]
  },
  {
   "cell_type": "markdown",
   "metadata": {
    "papermill": {
     "duration": 0.012907,
     "end_time": "2020-11-25T10:12:00.202451",
     "exception": false,
     "start_time": "2020-11-25T10:12:00.189544",
     "status": "completed"
    },
    "tags": []
   },
   "source": [
    "# Some elementary operations\n",
    "\n",
    "1. Add\n",
    "2. Multiply\n",
    "3. Inverse\n",
    "4. Max\n",
    "5. Matrix Multiplication"
   ]
  },
  {
   "cell_type": "markdown",
   "metadata": {
    "papermill": {
     "duration": 0.012982,
     "end_time": "2020-11-25T10:12:00.228605",
     "exception": false,
     "start_time": "2020-11-25T10:12:00.215623",
     "status": "completed"
    },
    "tags": []
   },
   "source": [
    "# ADD Implementation"
   ]
  },
  {
   "cell_type": "code",
   "execution_count": 2,
   "metadata": {
    "execution": {
     "iopub.execute_input": "2020-11-25T10:12:00.261505Z",
     "iopub.status.busy": "2020-11-25T10:12:00.260702Z",
     "iopub.status.idle": "2020-11-25T10:12:00.263688Z",
     "shell.execute_reply": "2020-11-25T10:12:00.263081Z"
    },
    "papermill": {
     "duration": 0.022009,
     "end_time": "2020-11-25T10:12:00.263851",
     "exception": false,
     "start_time": "2020-11-25T10:12:00.241842",
     "status": "completed"
    },
    "tags": []
   },
   "outputs": [],
   "source": [
    "class add(Operation):\n",
    "    \"\"\"Returns x + y element-wise.\n",
    "    \"\"\"\n",
    "\n",
    "    def __init__(self, x, y):\n",
    "        \"\"\"Construct add\n",
    "\n",
    "        Args:\n",
    "          x: First summand node\n",
    "          y: Second summand node\n",
    "        \"\"\"\n",
    "        super().__init__([x, y])\n",
    "\n",
    "    def compute(self, x_value, y_value):\n",
    "        \"\"\"Compute the output of the add operation\n",
    "\n",
    "        Args:\n",
    "          x_value: First summand value\n",
    "          y_value: Second summand value\n",
    "        \"\"\"\n",
    "        return x_value + y_value"
   ]
  },
  {
   "cell_type": "markdown",
   "metadata": {
    "papermill": {
     "duration": 0.013209,
     "end_time": "2020-11-25T10:12:00.290578",
     "exception": false,
     "start_time": "2020-11-25T10:12:00.277369",
     "status": "completed"
    },
    "tags": []
   },
   "source": [
    "# Multiply Implementation"
   ]
  },
  {
   "cell_type": "code",
   "execution_count": 3,
   "metadata": {
    "execution": {
     "iopub.execute_input": "2020-11-25T10:12:00.324505Z",
     "iopub.status.busy": "2020-11-25T10:12:00.323693Z",
     "iopub.status.idle": "2020-11-25T10:12:00.325919Z",
     "shell.execute_reply": "2020-11-25T10:12:00.326359Z"
    },
    "papermill": {
     "duration": 0.022324,
     "end_time": "2020-11-25T10:12:00.326497",
     "exception": false,
     "start_time": "2020-11-25T10:12:00.304173",
     "status": "completed"
    },
    "tags": []
   },
   "outputs": [],
   "source": [
    "class mul(Operation):\n",
    "    \"\"\"Returns x + y element-wise.\n",
    "    \"\"\"\n",
    "\n",
    "    def __init__(self, x, y):\n",
    "        \"\"\"Construct add\n",
    "\n",
    "        Args:\n",
    "          x: First summand node\n",
    "          y: Second summand node\n",
    "        \"\"\"\n",
    "        super().__init__([x, y])\n",
    "\n",
    "    def compute(self, x_value, y_value):\n",
    "        \"\"\"Compute the output of the add operation\n",
    "\n",
    "        Args:\n",
    "          x_value: First summand value\n",
    "          y_value: Second summand value\n",
    "        \"\"\"\n",
    "        return x_value * y_value"
   ]
  },
  {
   "cell_type": "markdown",
   "metadata": {
    "papermill": {
     "duration": 0.01333,
     "end_time": "2020-11-25T10:12:00.353327",
     "exception": false,
     "start_time": "2020-11-25T10:12:00.339997",
     "status": "completed"
    },
    "tags": []
   },
   "source": [
    "# Inverse Implementaion"
   ]
  },
  {
   "cell_type": "code",
   "execution_count": 4,
   "metadata": {
    "execution": {
     "iopub.execute_input": "2020-11-25T10:12:00.386953Z",
     "iopub.status.busy": "2020-11-25T10:12:00.386182Z",
     "iopub.status.idle": "2020-11-25T10:12:00.388196Z",
     "shell.execute_reply": "2020-11-25T10:12:00.388626Z"
    },
    "papermill": {
     "duration": 0.021921,
     "end_time": "2020-11-25T10:12:00.388764",
     "exception": false,
     "start_time": "2020-11-25T10:12:00.366843",
     "status": "completed"
    },
    "tags": []
   },
   "outputs": [],
   "source": [
    "class inv(Operation):\n",
    "    \"\"\"Returns x + y element-wise.\n",
    "    \"\"\"\n",
    "\n",
    "    def __init__(self, x):\n",
    "        \"\"\"Construct add\n",
    "\n",
    "        Args:\n",
    "          x: First summand node\n",
    "          y: Second summand node\n",
    "        \"\"\"\n",
    "        super().__init__([x])\n",
    "\n",
    "    def compute(self, x_value):\n",
    "        \"\"\"Compute the output of the add operation\n",
    "\n",
    "        Args:\n",
    "          x_value: First summand value\n",
    "          y_value: Second summand value\n",
    "        \"\"\"\n",
    "        return (1/x_value)"
   ]
  },
  {
   "cell_type": "markdown",
   "metadata": {
    "papermill": {
     "duration": 0.014124,
     "end_time": "2020-11-25T10:12:00.416770",
     "exception": false,
     "start_time": "2020-11-25T10:12:00.402646",
     "status": "completed"
    },
    "tags": []
   },
   "source": [
    "# MAX Implementaion"
   ]
  },
  {
   "cell_type": "code",
   "execution_count": 5,
   "metadata": {
    "execution": {
     "iopub.execute_input": "2020-11-25T10:12:00.451235Z",
     "iopub.status.busy": "2020-11-25T10:12:00.450228Z",
     "iopub.status.idle": "2020-11-25T10:12:00.453289Z",
     "shell.execute_reply": "2020-11-25T10:12:00.452670Z"
    },
    "papermill": {
     "duration": 0.022612,
     "end_time": "2020-11-25T10:12:00.453400",
     "exception": false,
     "start_time": "2020-11-25T10:12:00.430788",
     "status": "completed"
    },
    "tags": []
   },
   "outputs": [],
   "source": [
    "class MAX(Operation):\n",
    "    \"\"\"Returns x + y element-wise.\n",
    "    \"\"\"\n",
    "\n",
    "    def __init__(self, x, y):\n",
    "        \"\"\"Construct add\n",
    "\n",
    "        Args:\n",
    "          x: First summand node\n",
    "          y: Second summand node\n",
    "        \"\"\"\n",
    "        super().__init__([x, y])\n",
    "\n",
    "    def compute(self, x_value, y_value):\n",
    "        \"\"\"Compute the output of the add operation\n",
    "\n",
    "        Args:\n",
    "          x_value: First summand value\n",
    "          y_value: Second summand value\n",
    "        \"\"\"\n",
    "        return max(x_value, y_value)"
   ]
  },
  {
   "cell_type": "markdown",
   "metadata": {
    "papermill": {
     "duration": 0.0134,
     "end_time": "2020-11-25T10:12:00.480731",
     "exception": false,
     "start_time": "2020-11-25T10:12:00.467331",
     "status": "completed"
    },
    "tags": []
   },
   "source": [
    "# Matrix Multiplication"
   ]
  },
  {
   "cell_type": "code",
   "execution_count": 6,
   "metadata": {
    "execution": {
     "iopub.execute_input": "2020-11-25T10:12:00.514441Z",
     "iopub.status.busy": "2020-11-25T10:12:00.513766Z",
     "iopub.status.idle": "2020-11-25T10:12:00.516931Z",
     "shell.execute_reply": "2020-11-25T10:12:00.516356Z"
    },
    "papermill": {
     "duration": 0.022605,
     "end_time": "2020-11-25T10:12:00.517038",
     "exception": false,
     "start_time": "2020-11-25T10:12:00.494433",
     "status": "completed"
    },
    "tags": []
   },
   "outputs": [],
   "source": [
    "class matmul(Operation):\n",
    "    \"\"\"Multiplies matrix a by matrix b, producing a * b.\n",
    "    \"\"\"\n",
    "\n",
    "    def __init__(self, a, b):\n",
    "        \"\"\"Construct matmul\n",
    "\n",
    "        Args:\n",
    "          a: First matrix\n",
    "          b: Second matrix\n",
    "        \"\"\"\n",
    "        super().__init__([a, b])\n",
    "\n",
    "    def compute(self, a_value, b_value):\n",
    "        \"\"\"Compute the output of the matmul operation\n",
    "\n",
    "        Args:\n",
    "          a_value: First matrix value\n",
    "          b_value: Second matrix value\n",
    "        \"\"\"\n",
    "        return a_value.dot(b_value)"
   ]
  },
  {
   "cell_type": "markdown",
   "metadata": {
    "papermill": {
     "duration": 0.013703,
     "end_time": "2020-11-25T10:12:00.544974",
     "exception": false,
     "start_time": "2020-11-25T10:12:00.531271",
     "status": "completed"
    },
    "tags": []
   },
   "source": [
    "# Placeholders\n",
    "\n",
    "Not all the nodes in a computational graph are operations. For example, in the affine transformation graph, **A, x and b** are not operations. Rather, they are inputs to the graph that have to be supplied with a value once we want to compute the output of the graph. To provide such values, we introduce placeholders."
   ]
  },
  {
   "cell_type": "code",
   "execution_count": 7,
   "metadata": {
    "execution": {
     "iopub.execute_input": "2020-11-25T10:12:00.579339Z",
     "iopub.status.busy": "2020-11-25T10:12:00.578501Z",
     "iopub.status.idle": "2020-11-25T10:12:00.581430Z",
     "shell.execute_reply": "2020-11-25T10:12:00.580801Z"
    },
    "papermill": {
     "duration": 0.022252,
     "end_time": "2020-11-25T10:12:00.581539",
     "exception": false,
     "start_time": "2020-11-25T10:12:00.559287",
     "status": "completed"
    },
    "tags": []
   },
   "outputs": [],
   "source": [
    "class placeholder:\n",
    "    \"\"\"Represents a placeholder node that has to be provided with a value\n",
    "       when computing the output of a computational graph\n",
    "    \"\"\"\n",
    "\n",
    "    def __init__(self):\n",
    "        \"\"\"Construct placeholder\n",
    "        \"\"\"\n",
    "        self.consumers = []\n",
    "\n",
    "        # Append this placeholder to the list of placeholders in the currently active default graph\n",
    "        _default_graph.placeholders.append(self)"
   ]
  },
  {
   "cell_type": "markdown",
   "metadata": {
    "papermill": {
     "duration": 0.013735,
     "end_time": "2020-11-25T10:12:00.609365",
     "exception": false,
     "start_time": "2020-11-25T10:12:00.595630",
     "status": "completed"
    },
    "tags": []
   },
   "source": [
    "# Variables\n",
    "\n",
    "In the affine transformation graph, there is a qualitative difference between x on the one hand and A and b on the other hand. While x is an input to the operation, A and b are parameters of the operation, i.e. they are intrinsic to the graph. We will refer to such parameters as Variables."
   ]
  },
  {
   "cell_type": "code",
   "execution_count": 8,
   "metadata": {
    "execution": {
     "iopub.execute_input": "2020-11-25T10:12:00.644799Z",
     "iopub.status.busy": "2020-11-25T10:12:00.644122Z",
     "iopub.status.idle": "2020-11-25T10:12:00.647526Z",
     "shell.execute_reply": "2020-11-25T10:12:00.646864Z"
    },
    "papermill": {
     "duration": 0.024147,
     "end_time": "2020-11-25T10:12:00.647640",
     "exception": false,
     "start_time": "2020-11-25T10:12:00.623493",
     "status": "completed"
    },
    "tags": []
   },
   "outputs": [],
   "source": [
    "class Variable:\n",
    "    \"\"\"Represents a variable (i.e. an intrinsic, changeable parameter of a computational graph).\n",
    "    \"\"\"\n",
    "\n",
    "    def __init__(self, initial_value=None):\n",
    "        \"\"\"Construct Variable\n",
    "\n",
    "        Args:\n",
    "          initial_value: The initial value of this variable\n",
    "        \"\"\"\n",
    "        self.value = initial_value\n",
    "        self.consumers = []\n",
    "\n",
    "        # Append this variable to the list of variables in the currently active default graph\n",
    "        _default_graph.variables.append(self)"
   ]
  },
  {
   "cell_type": "markdown",
   "metadata": {
    "papermill": {
     "duration": 0.014049,
     "end_time": "2020-11-25T10:12:00.676280",
     "exception": false,
     "start_time": "2020-11-25T10:12:00.662231",
     "status": "completed"
    },
    "tags": []
   },
   "source": [
    "# The Graph Class\n",
    "\n",
    "Finally, we'll need a class that bundles all the operations, placeholders and variables together. When creating a new graph, we can call its as_default method to set the _default_graph to this graph. This way, we can create operations, placeholders and variables without having to pass in a reference to the graph everytime."
   ]
  },
  {
   "cell_type": "code",
   "execution_count": 9,
   "metadata": {
    "execution": {
     "iopub.execute_input": "2020-11-25T10:12:00.711703Z",
     "iopub.status.busy": "2020-11-25T10:12:00.710659Z",
     "iopub.status.idle": "2020-11-25T10:12:00.714322Z",
     "shell.execute_reply": "2020-11-25T10:12:00.713645Z"
    },
    "papermill": {
     "duration": 0.023879,
     "end_time": "2020-11-25T10:12:00.714440",
     "exception": false,
     "start_time": "2020-11-25T10:12:00.690561",
     "status": "completed"
    },
    "tags": []
   },
   "outputs": [],
   "source": [
    "class Graph:\n",
    "    \"\"\"Represents a computational graph\n",
    "    \"\"\"\n",
    "\n",
    "    def __init__(self):\n",
    "        \"\"\"Construct Graph\"\"\"\n",
    "        self.operations = []\n",
    "        self.placeholders = []\n",
    "        self.variables = []\n",
    "\n",
    "    def as_default(self):\n",
    "        global _default_graph\n",
    "        _default_graph = self"
   ]
  },
  {
   "attachments": {
    "image.png": {
     "image/png": "[encoded data removed]"
    }
   },
   "cell_type": "markdown",
   "metadata": {
    "papermill": {
     "duration": 0.013931,
     "end_time": "2020-11-25T10:12:00.742934",
     "exception": false,
     "start_time": "2020-11-25T10:12:00.729003",
     "status": "completed"
    },
    "tags": []
   },
   "source": [
    "# Session\n",
    "\n",
    "Now that we are confident creating computational graphs, we can start to think about how to compute the output of an operation.\n",
    "\n",
    "Let's create a Session class that encapsulates an execution of an operation. We would like to be able to create a session instance and call a run method on this instance, passing the operation that we want to compute and a dictionary containing values for the placeholders:\n",
    "\n",
    "This should compute the following value:\n",
    "\n",
    "![image.png](attachment:image.png)\n",
    "\n",
    "In order to compute the function represented by an operation, we need to apply the computations in the right order. For example, we cannot compute **z** before we have computed **y** as an intermediate result. Therefore, we have to make sure that the operations are carried out in the right order, such that the values of every node that is an input to an operation **o** has been computed before **o** is computed. This can be achieved via post-order traversal."
   ]
  },
  {
   "cell_type": "code",
   "execution_count": 10,
   "metadata": {
    "execution": {
     "iopub.execute_input": "2020-11-25T10:12:00.784015Z",
     "iopub.status.busy": "2020-11-25T10:12:00.783120Z",
     "iopub.status.idle": "2020-11-25T10:12:00.785998Z",
     "shell.execute_reply": "2020-11-25T10:12:00.785489Z"
    },
    "papermill": {
     "duration": 0.028168,
     "end_time": "2020-11-25T10:12:00.786107",
     "exception": false,
     "start_time": "2020-11-25T10:12:00.757939",
     "status": "completed"
    },
    "tags": []
   },
   "outputs": [],
   "source": [
    "import numpy as np\n",
    "\n",
    "\n",
    "class Session:\n",
    "    \"\"\"Represents a particular execution of a computational graph.\n",
    "    \"\"\"\n",
    "\n",
    "    def run(self, operation, feed_dict={}):\n",
    "        \"\"\"Computes the output of an operation\n",
    "\n",
    "        Args:\n",
    "          operation: The operation whose output we'd like to compute.\n",
    "          feed_dict: A dictionary that maps placeholders to values for this session\n",
    "        \"\"\"\n",
    "\n",
    "        # Perform a post-order traversal of the graph to bring the nodes into the right order\n",
    "        nodes_postorder = traverse_postorder(operation)\n",
    "\n",
    "        # Iterate all nodes to determine their value\n",
    "        for node in nodes_postorder:\n",
    "\n",
    "            if type(node) == placeholder:\n",
    "                # Set the node value to the placeholder value from feed_dict\n",
    "                node.output = feed_dict[node]\n",
    "            elif type(node) == Variable:\n",
    "                # Set the node value to the variable's value attribute\n",
    "                node.output = node.value\n",
    "            else:  # Operation\n",
    "                # Get the input values for this operation from the output values of the input nodes\n",
    "                node.inputs = [input_node.output for input_node in node.input_nodes]\n",
    "\n",
    "                # Compute the output of this operation\n",
    "                node.output = node.compute(*node.inputs)\n",
    "\n",
    "            # Convert lists to numpy arrays\n",
    "            if type(node.output) == list:\n",
    "                node.output = np.array(node.output)\n",
    "\n",
    "        # Return the requested node value\n",
    "        return operation.output\n",
    "\n",
    "\n",
    "def traverse_postorder(operation):\n",
    "    \"\"\"Performs a post-order traversal, returning a list of nodes\n",
    "    in the order in which they have to be computed\n",
    "\n",
    "    Args:\n",
    "       operation: The operation to start traversal at\n",
    "    \"\"\"\n",
    "\n",
    "    nodes_postorder = []\n",
    "\n",
    "    def recurse(node):\n",
    "        if isinstance(node, Operation):\n",
    "            for input_node in node.input_nodes:\n",
    "                recurse(input_node)\n",
    "        nodes_postorder.append(node)\n",
    "\n",
    "    recurse(operation)\n",
    "    return nodes_postorder"
   ]
  },
  {
   "attachments": {
    "image.png": {
     "image/png": "[encoded data removed]"
    }
   },
   "cell_type": "markdown",
   "metadata": {
    "papermill": {
     "duration": 0.01418,
     "end_time": "2020-11-25T10:12:00.814779",
     "exception": false,
     "start_time": "2020-11-25T10:12:00.800599",
     "status": "completed"
    },
    "tags": []
   },
   "source": [
    "# Example\n",
    "\n",
    "Let's now use the classes we have built to create a computational graph for the following affine transformation:\n",
    "\n",
    "![image.png](attachment:image.png)"
   ]
  },
  {
   "cell_type": "code",
   "execution_count": 11,
   "metadata": {
    "execution": {
     "iopub.execute_input": "2020-11-25T10:12:00.850796Z",
     "iopub.status.busy": "2020-11-25T10:12:00.849838Z",
     "iopub.status.idle": "2020-11-25T10:12:00.852977Z",
     "shell.execute_reply": "2020-11-25T10:12:00.852411Z"
    },
    "papermill": {
     "duration": 0.023764,
     "end_time": "2020-11-25T10:12:00.853094",
     "exception": false,
     "start_time": "2020-11-25T10:12:00.829330",
     "status": "completed"
    },
    "tags": []
   },
   "outputs": [],
   "source": [
    "# Create a new graph\n",
    "Graph().as_default()\n",
    "\n",
    "# Create variables\n",
    "A = Variable([[1, 0], [0, -1]])\n",
    "b = Variable([1, 1])\n",
    "\n",
    "# Create placeholder\n",
    "x = placeholder()\n",
    "\n",
    "# Create hidden node y\n",
    "y = matmul(A, x)\n",
    "\n",
    "# Create output node z\n",
    "z = add(y, b)"
   ]
  },
  {
   "cell_type": "code",
   "execution_count": 12,
   "metadata": {
    "execution": {
     "iopub.execute_input": "2020-11-25T10:12:00.894605Z",
     "iopub.status.busy": "2020-11-25T10:12:00.893648Z",
     "iopub.status.idle": "2020-11-25T10:12:00.897747Z",
     "shell.execute_reply": "2020-11-25T10:12:00.897093Z"
    },
    "papermill": {
     "duration": 0.028826,
     "end_time": "2020-11-25T10:12:00.897873",
     "exception": false,
     "start_time": "2020-11-25T10:12:00.869047",
     "status": "completed"
    },
    "tags": []
   },
   "outputs": [
    {
     "name": "stdout",
     "output_type": "stream",
     "text": [
      "[ 2 -1]\n"
     ]
    }
   ],
   "source": [
    "session = Session()\n",
    "output = session.run(z, {\n",
    "    x: [1, 2]\n",
    "})\n",
    "print(output)"
   ]
  },
  {
   "cell_type": "code",
   "execution_count": null,
   "metadata": {
    "papermill": {
     "duration": 0.015166,
     "end_time": "2020-11-25T10:12:00.929001",
     "exception": false,
     "start_time": "2020-11-25T10:12:00.913835",
     "status": "completed"
    },
    "tags": []
   },
   "outputs": [],
   "source": []
  }
 ],
 "metadata": {
  "kernelspec": {
   "display_name": "Python 3",
   "language": "python",
   "name": "python3"
  },
  "language_info": {
   "codemirror_mode": {
    "name": "ipython",
    "version": 3
   },
   "file_extension": ".py",
   "mimetype": "text/x-python",
   "name": "python",
   "nbconvert_exporter": "python",
   "pygments_lexer": "ipython3",
   "version": "3.7.6"
  },
  "papermill": {
   "duration": 5.643526,
   "end_time": "2020-11-25T10:12:01.052377",
   "environment_variables": {},
   "exception": null,
   "input_path": "__notebook__.ipynb",
   "output_path": "__notebook__.ipynb",
   "parameters": {},
   "start_time": "2020-11-25T10:11:55.408851",
   "version": "2.1.0"
  }
 },
 "nbformat": 4,
 "nbformat_minor": 4
}
